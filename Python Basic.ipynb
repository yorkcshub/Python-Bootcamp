{
 "cells": [
  {
   "cell_type": "markdown",
   "metadata": {},
   "source": [
    "# Python Basic\n",
    "\n",
    "In this session, we will through basic syntax of python, basic python data types, work on some examples and later using python to learn some common data structure and solve problems."
   ]
  },
  {
   "cell_type": "markdown",
   "metadata": {},
   "source": [
    "## Input/Output"
   ]
  },
  {
   "cell_type": "code",
   "execution_count": 1,
   "metadata": {},
   "outputs": [
    {
     "name": "stdout",
     "output_type": "stream",
     "text": [
      "\n",
      "<class 'str'>\n",
      "3\n",
      "<class 'int'>\n"
     ]
    }
   ],
   "source": [
    "a = input()\n",
    "print(type(a))\n",
    "\n",
    "a = int(input())\n",
    "print(type(a))"
   ]
  },
  {
   "cell_type": "markdown",
   "metadata": {},
   "source": [
    "## Output"
   ]
  },
  {
   "cell_type": "markdown",
   "metadata": {},
   "source": [
    "### Print an array of number from 0 to 10"
   ]
  },
  {
   "cell_type": "code",
   "execution_count": 2,
   "metadata": {
    "scrolled": true
   },
   "outputs": [
    {
     "name": "stdout",
     "output_type": "stream",
     "text": [
      "0\n",
      "1\n",
      "2\n",
      "3\n",
      "4\n",
      "5\n",
      "6\n",
      "7\n",
      "8\n",
      "9\n"
     ]
    }
   ],
   "source": [
    "for i in range(10):\n",
    "    print(i)"
   ]
  },
  {
   "cell_type": "markdown",
   "metadata": {},
   "source": [
    "## Basic Operator\n",
    "\n",
    "* `+, -, *, /`: just like in another language\n",
    "\n",
    "* `//`: integer divide\n",
    "\n",
    "* `**`: power\n",
    "\n",
    "* `&, ^, |, ~`: bitwise operator"
   ]
  },
  {
   "cell_type": "code",
   "execution_count": 3,
   "metadata": {},
   "outputs": [
    {
     "name": "stdout",
     "output_type": "stream",
     "text": [
      "\n"
     ]
    },
    {
     "ename": "ValueError",
     "evalue": "invalid literal for int() with base 10: ''",
     "output_type": "error",
     "traceback": [
      "\u001b[1;31m---------------------------------------------------------------------------\u001b[0m",
      "\u001b[1;31mValueError\u001b[0m                                Traceback (most recent call last)",
      "\u001b[1;32m<ipython-input-3-9f9f9c0d0ef4>\u001b[0m in \u001b[0;36m<module>\u001b[1;34m\u001b[0m\n\u001b[1;32m----> 1\u001b[1;33m \u001b[0mx\u001b[0m \u001b[1;33m=\u001b[0m \u001b[0mint\u001b[0m\u001b[1;33m(\u001b[0m\u001b[0minput\u001b[0m\u001b[1;33m(\u001b[0m\u001b[1;33m)\u001b[0m\u001b[1;33m)\u001b[0m\u001b[1;33m\u001b[0m\u001b[1;33m\u001b[0m\u001b[0m\n\u001b[0m\u001b[0;32m      2\u001b[0m \u001b[0my\u001b[0m \u001b[1;33m=\u001b[0m \u001b[0mint\u001b[0m\u001b[1;33m(\u001b[0m\u001b[0minput\u001b[0m\u001b[1;33m(\u001b[0m\u001b[1;33m)\u001b[0m\u001b[1;33m)\u001b[0m\u001b[1;33m\u001b[0m\u001b[1;33m\u001b[0m\u001b[0m\n\u001b[0;32m      3\u001b[0m \u001b[0mprint\u001b[0m\u001b[1;33m(\u001b[0m\u001b[1;34m\"x = \"\u001b[0m \u001b[1;33m+\u001b[0m \u001b[0mstr\u001b[0m\u001b[1;33m(\u001b[0m\u001b[0mx\u001b[0m\u001b[1;33m)\u001b[0m \u001b[1;33m+\u001b[0m \u001b[1;34m\"y = \"\u001b[0m \u001b[1;33m+\u001b[0m \u001b[0mstr\u001b[0m\u001b[1;33m(\u001b[0m\u001b[0my\u001b[0m\u001b[1;33m)\u001b[0m\u001b[1;33m)\u001b[0m\u001b[1;33m\u001b[0m\u001b[1;33m\u001b[0m\u001b[0m\n\u001b[0;32m      4\u001b[0m \u001b[0mprint\u001b[0m\u001b[1;33m(\u001b[0m\u001b[1;34m\"x + y =\"\u001b[0m\u001b[1;33m,\u001b[0m \u001b[0mx\u001b[0m \u001b[1;33m+\u001b[0m \u001b[0my\u001b[0m\u001b[1;33m)\u001b[0m\u001b[1;33m\u001b[0m\u001b[1;33m\u001b[0m\u001b[0m\n\u001b[0;32m      5\u001b[0m \u001b[0mprint\u001b[0m\u001b[1;33m(\u001b[0m\u001b[1;34m\"x - y =\"\u001b[0m\u001b[1;33m,\u001b[0m \u001b[0mx\u001b[0m \u001b[1;33m-\u001b[0m \u001b[0my\u001b[0m\u001b[1;33m)\u001b[0m\u001b[1;33m\u001b[0m\u001b[1;33m\u001b[0m\u001b[0m\n",
      "\u001b[1;31mValueError\u001b[0m: invalid literal for int() with base 10: ''"
     ]
    }
   ],
   "source": [
    "x = int(input())\n",
    "y = int(input())\n",
    "print(\"x = \" + str(x) + \"y = \" + str(y))\n",
    "print(\"x + y =\", x + y)\n",
    "print(\"x - y =\", x - y)\n",
    "print(\"x * y = \" + str(x * y))\n",
    "print(\"pow(x, y) = \" + str(x ** y))\n",
    "print(\"x / y = \" + str(x / y))\n",
    "print(\"x // y = \" + str(x // y))"
   ]
  },
  {
   "cell_type": "markdown",
   "metadata": {},
   "source": [
    "## Python Data Type\n",
    "\n",
    "## Integer"
   ]
  },
  {
   "cell_type": "code",
   "execution_count": 4,
   "metadata": {
    "scrolled": true
   },
   "outputs": [
    {
     "name": "stdout",
     "output_type": "stream",
     "text": [
      "<class 'int'>\n"
     ]
    }
   ],
   "source": [
    "x = 21199\n",
    "print(type(x))"
   ]
  },
  {
   "cell_type": "markdown",
   "metadata": {},
   "source": [
    "## Floating-point number"
   ]
  },
  {
   "cell_type": "code",
   "execution_count": 5,
   "metadata": {},
   "outputs": [
    {
     "name": "stdout",
     "output_type": "stream",
     "text": [
      "<class 'float'>\n"
     ]
    }
   ],
   "source": [
    "x = 2.1199\n",
    "print(type(x))"
   ]
  },
  {
   "cell_type": "markdown",
   "metadata": {},
   "source": [
    "## Complex Number"
   ]
  },
  {
   "cell_type": "code",
   "execution_count": 6,
   "metadata": {},
   "outputs": [
    {
     "name": "stdout",
     "output_type": "stream",
     "text": [
      "<class 'complex'>\n",
      "(2+11j)\n",
      "2.0 11.0\n"
     ]
    }
   ],
   "source": [
    "x = 2 + 11j\n",
    "print(type(x))\n",
    "print(x)\n",
    "print(x.real, x.imag)"
   ]
  },
  {
   "cell_type": "markdown",
   "metadata": {},
   "source": [
    "## String"
   ]
  },
  {
   "cell_type": "code",
   "execution_count": 7,
   "metadata": {},
   "outputs": [
    {
     "name": "stdout",
     "output_type": "stream",
     "text": [
      "I am Tien. \t I just tab using \\t \n",
      "This is a new line using \\n\n",
      "<class 'str'>\n"
     ]
    }
   ],
   "source": [
    "x = \"I am Tien. \\t I just tab using \\\\t \\nThis is a new line using \\\\n\"\n",
    "print(x)\n",
    "print(type(x))"
   ]
  },
  {
   "cell_type": "markdown",
   "metadata": {},
   "source": [
    "## Boolean"
   ]
  },
  {
   "cell_type": "code",
   "execution_count": 8,
   "metadata": {},
   "outputs": [
    {
     "name": "stdout",
     "output_type": "stream",
     "text": [
      "<class 'bool'> <class 'bool'>\n"
     ]
    }
   ],
   "source": [
    "x = True\n",
    "y = False\n",
    "print(type(x), type(y))"
   ]
  },
  {
   "cell_type": "markdown",
   "metadata": {},
   "source": [
    "### Range(start, end, step):"
   ]
  },
  {
   "cell_type": "code",
   "execution_count": 9,
   "metadata": {},
   "outputs": [
    {
     "name": "stdout",
     "output_type": "stream",
     "text": [
      "0\n",
      "1\n",
      "2\n",
      "3\n",
      "4\n",
      "5\n",
      "6\n",
      "7\n",
      "8\n",
      "9\n"
     ]
    }
   ],
   "source": [
    "for i in range(10):\n",
    "    print(i)"
   ]
  },
  {
   "cell_type": "code",
   "execution_count": 10,
   "metadata": {},
   "outputs": [
    {
     "name": "stdout",
     "output_type": "stream",
     "text": [
      "0 2\n",
      "2 4\n",
      "4 6\n",
      "6 8\n",
      "8 10\n"
     ]
    }
   ],
   "source": [
    "for i in range(0, 10, 2):\n",
    "    print(i, i + 2)"
   ]
  },
  {
   "cell_type": "code",
   "execution_count": 11,
   "metadata": {},
   "outputs": [
    {
     "name": "stdout",
     "output_type": "stream",
     "text": [
      "0 1 2 3 4 5 6 7 8 9 "
     ]
    }
   ],
   "source": [
    "for i in range(10):\n",
    "    print(i, end=' ')"
   ]
  },
  {
   "cell_type": "markdown",
   "metadata": {},
   "source": [
    "## Conditional Statements\n",
    "\n",
    "### If/Else Syntax\n",
    "```python\n",
    "if condition_1:\n",
    "    do something here\n",
    "elif condition_2:\n",
    "    do some other thing here\n",
    "else:\n",
    "    do something here\n",
    "```\n",
    "\n",
    "### While\n",
    "```python\n",
    "while condition:\n",
    "    do something\n",
    "```"
   ]
  },
  {
   "cell_type": "markdown",
   "metadata": {},
   "source": [
    "## Exercises\n",
    "\n",
    "0) Given two numbers n, and k. Check if k is a divisor of n.\n",
    "\n",
    "1) Find sum of all divisors (except itself) of a given integer n\n",
    "\n",
    "2) (*) Find the largest prime in all its factors of a given integer n"
   ]
  },
  {
   "cell_type": "markdown",
   "metadata": {},
   "source": [
    "## List\n",
    "\n",
    "In Python, item in the list can be anything"
   ]
  },
  {
   "cell_type": "code",
   "execution_count": 12,
   "metadata": {
    "scrolled": true
   },
   "outputs": [
    {
     "name": "stdout",
     "output_type": "stream",
     "text": [
      "[1, 2, 3, 4, 5]\n"
     ]
    }
   ],
   "source": [
    "bunch_of_numbers = [1, 2, 3, 4, 5]\n",
    "empty_list = []\n",
    "print(bunch_of_numbers)"
   ]
  },
  {
   "cell_type": "markdown",
   "metadata": {},
   "source": [
    "`len(string)`: length of a string, `len(list)`: length of the list (number of elements in the list)"
   ]
  },
  {
   "cell_type": "code",
   "execution_count": 13,
   "metadata": {},
   "outputs": [
    {
     "name": "stdout",
     "output_type": "stream",
     "text": [
      "['2nd year undergraduate', 'computer science', 'math']\n",
      "3\n",
      "22\n"
     ]
    }
   ],
   "source": [
    "tien = ['2nd year undergraduate', 'computer science', 'math']\n",
    "print(tien)\n",
    "print(len(tien))\n",
    "print(len(tien[0]))"
   ]
  },
  {
   "cell_type": "markdown",
   "metadata": {},
   "source": [
    "A list can contain a another list (**nested list**)"
   ]
  },
  {
   "cell_type": "code",
   "execution_count": 14,
   "metadata": {},
   "outputs": [
    {
     "name": "stdout",
     "output_type": "stream",
     "text": [
      "brown\n",
      "500500\n"
     ]
    }
   ],
   "source": [
    "last_names = [\"smith\", \"brown\"]\n",
    "print(last_names[1])\n",
    "\n",
    "x = [[1, 0], [0, 1]] # identity matrix\n",
    "one_to_onethousand = list(range(1,1001))\n",
    "total = 0\n",
    "for i in one_to_onethousand:\n",
    "    total = total + i\n",
    "print(total)"
   ]
  },
  {
   "cell_type": "markdown",
   "metadata": {},
   "source": [
    "### Short way to create list"
   ]
  },
  {
   "cell_type": "code",
   "execution_count": 15,
   "metadata": {
    "scrolled": true
   },
   "outputs": [
    {
     "name": "stdout",
     "output_type": "stream",
     "text": [
      "[0, 1, 4, 9, 16, 25, 36, 49, 64, 81]\n",
      "['C', 'S', 'H', 'U', 'B']\n",
      "[1, 2, 4, 5, 10, 20, 25, 50]\n",
      "how many numbers: \n"
     ]
    },
    {
     "ename": "ValueError",
     "evalue": "invalid literal for int() with base 10: ''",
     "output_type": "error",
     "traceback": [
      "\u001b[1;31m---------------------------------------------------------------------------\u001b[0m",
      "\u001b[1;31mValueError\u001b[0m                                Traceback (most recent call last)",
      "\u001b[1;32m<ipython-input-15-34cc5f99c177>\u001b[0m in \u001b[0;36m<module>\u001b[1;34m\u001b[0m\n\u001b[0;32m      8\u001b[0m \u001b[1;33m\u001b[0m\u001b[0m\n\u001b[0;32m      9\u001b[0m \u001b[0mprint\u001b[0m\u001b[1;33m(\u001b[0m\u001b[1;33m[\u001b[0m\u001b[0mx\u001b[0m \u001b[1;32mfor\u001b[0m \u001b[0mx\u001b[0m \u001b[1;32min\u001b[0m \u001b[0mrange\u001b[0m\u001b[1;33m(\u001b[0m\u001b[1;36m1\u001b[0m\u001b[1;33m,\u001b[0m\u001b[0mn\u001b[0m\u001b[1;33m)\u001b[0m \u001b[1;32mif\u001b[0m \u001b[0mn\u001b[0m \u001b[1;33m%\u001b[0m \u001b[0mx\u001b[0m \u001b[1;33m==\u001b[0m \u001b[1;36m0\u001b[0m\u001b[1;33m]\u001b[0m\u001b[1;33m)\u001b[0m\u001b[1;33m\u001b[0m\u001b[1;33m\u001b[0m\u001b[0m\n\u001b[1;32m---> 10\u001b[1;33m \u001b[0mlen_of_list\u001b[0m  \u001b[1;33m=\u001b[0m \u001b[0mint\u001b[0m\u001b[1;33m(\u001b[0m\u001b[0minput\u001b[0m\u001b[1;33m(\u001b[0m\u001b[1;34m\"how many numbers: \"\u001b[0m\u001b[1;33m)\u001b[0m\u001b[1;33m)\u001b[0m\u001b[1;33m\u001b[0m\u001b[1;33m\u001b[0m\u001b[0m\n\u001b[0m\u001b[0;32m     11\u001b[0m \u001b[0mx\u001b[0m \u001b[1;33m=\u001b[0m \u001b[1;33m[\u001b[0m\u001b[1;33m]\u001b[0m\u001b[1;33m\u001b[0m\u001b[1;33m\u001b[0m\u001b[0m\n\u001b[0;32m     12\u001b[0m \u001b[1;33m\u001b[0m\u001b[0m\n",
      "\u001b[1;31mValueError\u001b[0m: invalid literal for int() with base 10: ''"
     ]
    }
   ],
   "source": [
    "nums = [i**2 for i in range(10)]\n",
    "print(nums)\n",
    "\n",
    "cs = [i for i in \"CSHUB\"]\n",
    "print(cs)\n",
    "n = 100\n",
    "\n",
    "\n",
    "print([x for x in range(1,n) if n % x == 0])\n",
    "len_of_list  = int(input(\"how many numbers: \"))\n",
    "x = []\n",
    "\n",
    "for i in range(len_of_list):\n",
    "    num = int(input(\"enter a number\"))\n",
    "    x.append(num)\n",
    "print([int(input(\"enter a number: \")) for x in range(len_of_list)])\n",
    "\n",
    "print([i + 'a' for i in \"cshub\"])"
   ]
  },
  {
   "cell_type": "markdown",
   "metadata": {},
   "source": [
    "## Exercise\n",
    "\n",
    "Read a list of integers (in one line) from standard input\n",
    "\n",
    "Read a number from standard input, find all of its divisors, and then square them."
   ]
  },
  {
   "cell_type": "markdown",
   "metadata": {},
   "source": [
    "# Week 2"
   ]
  },
  {
   "cell_type": "markdown",
   "metadata": {},
   "source": [
    "## Import libraries\n",
    "\n",
    "`import math`: math library in python\n",
    "\n",
    "`import sys`: library that deal with input/output"
   ]
  },
  {
   "cell_type": "markdown",
   "metadata": {},
   "source": [
    "## Basic practice\n",
    "\n",
    "1) Read an integer n - number of element in our list. Read n integers. Find sum, average, maximum number, minimum number of the list (without using additional libraries).\n",
    "\n",
    "2) Given $n$. Find $n!$ (using for loop).\n",
    "\n",
    "\n",
    "## Practice\n",
    "\n",
    "1) Read 2 integer $m$, $n$ from standard input indicating the dimension of our matrices. Read $m \\times n$ numbers of the first matrix ($M_1$). Read $m \\times n$ numbers of the second matrix ($M_2$).\n",
    "\n",
    "Print the result matrix of $M_1 + M_2$, $M_1 - M_2$\n",
    "\n",
    "2) Read 2 integer $m_1$, $n_1$ from standard input indicating the dimension of the first matrix. Read $m_1 \\times n_1$ numbers of the first matrix ($M_1$). \n",
    "\n",
    "Read 2 integer $m_2$, $n_2$ from standard input indicating the dimension of the first matrix. Read $m_2 \\times n_2$ numbers of the second matrix ($M_2$).\n",
    "\n",
    "Print the result matrix of $M_1 \\times M_2$. Note: we could only perform the computation if $n_1 = m_2$"
   ]
  },
  {
   "cell_type": "code",
   "execution_count": 16,
   "metadata": {},
   "outputs": [
    {
     "name": "stdout",
     "output_type": "stream",
     "text": [
      "\n"
     ]
    },
    {
     "ename": "ValueError",
     "evalue": "invalid literal for int() with base 10: ''",
     "output_type": "error",
     "traceback": [
      "\u001b[1;31m---------------------------------------------------------------------------\u001b[0m",
      "\u001b[1;31mValueError\u001b[0m                                Traceback (most recent call last)",
      "\u001b[1;32m<ipython-input-16-f3a61fbb0887>\u001b[0m in \u001b[0;36m<module>\u001b[1;34m\u001b[0m\n\u001b[0;32m      1\u001b[0m \u001b[1;31m# basic practice 1\u001b[0m\u001b[1;33m\u001b[0m\u001b[1;33m\u001b[0m\u001b[1;33m\u001b[0m\u001b[0m\n\u001b[1;32m----> 2\u001b[1;33m \u001b[0mn\u001b[0m \u001b[1;33m=\u001b[0m \u001b[0mint\u001b[0m\u001b[1;33m(\u001b[0m\u001b[0minput\u001b[0m\u001b[1;33m(\u001b[0m\u001b[1;33m)\u001b[0m\u001b[1;33m)\u001b[0m\u001b[1;33m\u001b[0m\u001b[1;33m\u001b[0m\u001b[0m\n\u001b[0m\u001b[0;32m      3\u001b[0m \u001b[1;33m\u001b[0m\u001b[0m\n\u001b[0;32m      4\u001b[0m \u001b[0ma\u001b[0m \u001b[1;33m=\u001b[0m \u001b[1;33m[\u001b[0m\u001b[1;33m]\u001b[0m\u001b[1;33m\u001b[0m\u001b[1;33m\u001b[0m\u001b[0m\n\u001b[0;32m      5\u001b[0m \u001b[0ms\u001b[0m \u001b[1;33m=\u001b[0m \u001b[1;36m0\u001b[0m\u001b[1;33m\u001b[0m\u001b[1;33m\u001b[0m\u001b[0m\n",
      "\u001b[1;31mValueError\u001b[0m: invalid literal for int() with base 10: ''"
     ]
    }
   ],
   "source": [
    "# basic practice 1\n",
    "n = int(input())\n",
    "\n",
    "a = []\n",
    "s = 0\n",
    "avg = 0\n",
    "\n",
    "for i in range(n):\n",
    "  x = int(input())\n",
    "  a.append(x)\n",
    "  s += x\n",
    "\n",
    "avg = s / n\n",
    "\n",
    "ma = a[0]\n",
    "mi = a[0]\n",
    "\n",
    "for i in range(n):\n",
    "  if a[i] > ma:\n",
    "    ma = a[i]\n",
    "  if a[i] < mi:\n",
    "    mi = a[i]\n",
    "\n",
    "print(\"sum = \", s)\n",
    "print(\"avg = \", avg)\n",
    "print(\"min = \", mi)\n",
    "print(\"max = \", ma)"
   ]
  },
  {
   "cell_type": "code",
   "execution_count": 17,
   "metadata": {},
   "outputs": [
    {
     "name": "stdout",
     "output_type": "stream",
     "text": [
      "\n"
     ]
    },
    {
     "ename": "ValueError",
     "evalue": "invalid literal for int() with base 10: ''",
     "output_type": "error",
     "traceback": [
      "\u001b[1;31m---------------------------------------------------------------------------\u001b[0m",
      "\u001b[1;31mValueError\u001b[0m                                Traceback (most recent call last)",
      "\u001b[1;32m<ipython-input-17-168f3c1ee343>\u001b[0m in \u001b[0;36m<module>\u001b[1;34m\u001b[0m\n\u001b[0;32m      1\u001b[0m \u001b[1;31m# basic problem 2\u001b[0m\u001b[1;33m\u001b[0m\u001b[1;33m\u001b[0m\u001b[1;33m\u001b[0m\u001b[0m\n\u001b[1;32m----> 2\u001b[1;33m \u001b[0mn\u001b[0m \u001b[1;33m=\u001b[0m \u001b[0mint\u001b[0m\u001b[1;33m(\u001b[0m\u001b[0minput\u001b[0m\u001b[1;33m(\u001b[0m\u001b[1;33m)\u001b[0m\u001b[1;33m)\u001b[0m\u001b[1;33m\u001b[0m\u001b[1;33m\u001b[0m\u001b[0m\n\u001b[0m\u001b[0;32m      3\u001b[0m \u001b[0mfact\u001b[0m \u001b[1;33m=\u001b[0m \u001b[1;36m1\u001b[0m\u001b[1;33m\u001b[0m\u001b[1;33m\u001b[0m\u001b[0m\n\u001b[0;32m      4\u001b[0m \u001b[1;31m# n !\u001b[0m\u001b[1;33m\u001b[0m\u001b[1;33m\u001b[0m\u001b[1;33m\u001b[0m\u001b[0m\n\u001b[0;32m      5\u001b[0m \u001b[1;32mfor\u001b[0m \u001b[0mi\u001b[0m \u001b[1;32min\u001b[0m \u001b[0mrange\u001b[0m\u001b[1;33m(\u001b[0m\u001b[1;36m2\u001b[0m\u001b[1;33m,\u001b[0m \u001b[0mn\u001b[0m \u001b[1;33m+\u001b[0m \u001b[1;36m1\u001b[0m\u001b[1;33m)\u001b[0m\u001b[1;33m:\u001b[0m\u001b[1;33m\u001b[0m\u001b[1;33m\u001b[0m\u001b[0m\n",
      "\u001b[1;31mValueError\u001b[0m: invalid literal for int() with base 10: ''"
     ]
    }
   ],
   "source": [
    "# basic problem 2\n",
    "n = int(input())\n",
    "fact = 1\n",
    "# n !\n",
    "for i in range(2, n + 1):\n",
    "  fact = fact * i\n",
    "  # fact *= i\n",
    "\n",
    "print(\"factorial of n is: \", fact)"
   ]
  },
  {
   "cell_type": "markdown",
   "metadata": {},
   "source": [
    "## Some more practice\n",
    "\n",
    "0) Given an integer n. Check if n is a prime.\n",
    "\n",
    "1) Read an integer n from a standard input. Return a list of all its divisors.\n",
    "\n",
    "2) Read an integer n from a standard input. Return a list of all primes less than or equal to n. (Sieve of Eratosthenes)\n",
    "\n",
    "3) Read an integer n indicating the size of list l. Read n integers of our list. \n",
    "\n",
    "Read i, j from standard input. Find sum of all elements from range $i \\rightarrow j$ in our list.\n",
    "\n",
    "4) (*) Read a square matrix $M$ of size $m \\times m$. Read an integer $n$ $(n < m)$. Find the square matrix of size $n \\times n$ in $M$ that has biggest sum (sum of a square matrix is the sum of all entries in that matrix)."
   ]
  },
  {
   "cell_type": "code",
   "execution_count": 18,
   "metadata": {},
   "outputs": [
    {
     "name": "stdout",
     "output_type": "stream",
     "text": [
      "\n"
     ]
    },
    {
     "ename": "ValueError",
     "evalue": "invalid literal for int() with base 10: ''",
     "output_type": "error",
     "traceback": [
      "\u001b[1;31m---------------------------------------------------------------------------\u001b[0m",
      "\u001b[1;31mValueError\u001b[0m                                Traceback (most recent call last)",
      "\u001b[1;32m<ipython-input-18-d9dde72656eb>\u001b[0m in \u001b[0;36m<module>\u001b[1;34m\u001b[0m\n\u001b[0;32m      2\u001b[0m \u001b[1;32mimport\u001b[0m \u001b[0mmath\u001b[0m\u001b[1;33m\u001b[0m\u001b[1;33m\u001b[0m\u001b[0m\n\u001b[0;32m      3\u001b[0m \u001b[1;33m\u001b[0m\u001b[0m\n\u001b[1;32m----> 4\u001b[1;33m \u001b[0mn\u001b[0m \u001b[1;33m=\u001b[0m \u001b[0mint\u001b[0m\u001b[1;33m(\u001b[0m\u001b[0minput\u001b[0m\u001b[1;33m(\u001b[0m\u001b[1;33m)\u001b[0m\u001b[1;33m)\u001b[0m\u001b[1;33m\u001b[0m\u001b[1;33m\u001b[0m\u001b[0m\n\u001b[0m\u001b[0;32m      5\u001b[0m \u001b[1;33m\u001b[0m\u001b[0m\n\u001b[0;32m      6\u001b[0m \u001b[0mstate\u001b[0m \u001b[1;33m=\u001b[0m \u001b[1;36m1\u001b[0m\u001b[1;33m\u001b[0m\u001b[1;33m\u001b[0m\u001b[0m\n",
      "\u001b[1;31mValueError\u001b[0m: invalid literal for int() with base 10: ''"
     ]
    }
   ],
   "source": [
    "# 0 some more practice\n",
    "import math\n",
    "\n",
    "n = int(input())\n",
    "\n",
    "state = 1\n",
    "\n",
    "for i in range(2, int(math.sqrt(n)) + 1):\n",
    "  if n % i == 0:\n",
    "    print(\"this is not a prime\")\n",
    "    state = 0\n",
    "    break\n",
    "\n",
    "if state:\n",
    "  print(\"this is a prime\")\n"
   ]
  },
  {
   "cell_type": "code",
   "execution_count": 19,
   "metadata": {},
   "outputs": [
    {
     "name": "stdout",
     "output_type": "stream",
     "text": [
      "\n"
     ]
    },
    {
     "ename": "ValueError",
     "evalue": "invalid literal for int() with base 10: ''",
     "output_type": "error",
     "traceback": [
      "\u001b[1;31m---------------------------------------------------------------------------\u001b[0m",
      "\u001b[1;31mValueError\u001b[0m                                Traceback (most recent call last)",
      "\u001b[1;32m<ipython-input-19-2da7c5fad111>\u001b[0m in \u001b[0;36m<module>\u001b[1;34m\u001b[0m\n\u001b[0;32m      1\u001b[0m \u001b[1;31m# 1 some more practice\u001b[0m\u001b[1;33m\u001b[0m\u001b[1;33m\u001b[0m\u001b[1;33m\u001b[0m\u001b[0m\n\u001b[0;32m      2\u001b[0m \u001b[1;32mimport\u001b[0m \u001b[0mmath\u001b[0m\u001b[1;33m\u001b[0m\u001b[1;33m\u001b[0m\u001b[0m\n\u001b[1;32m----> 3\u001b[1;33m \u001b[0mn\u001b[0m \u001b[1;33m=\u001b[0m \u001b[0mint\u001b[0m\u001b[1;33m(\u001b[0m\u001b[0minput\u001b[0m\u001b[1;33m(\u001b[0m\u001b[1;33m)\u001b[0m\u001b[1;33m)\u001b[0m\u001b[1;33m\u001b[0m\u001b[1;33m\u001b[0m\u001b[0m\n\u001b[0m\u001b[0;32m      4\u001b[0m \u001b[1;33m\u001b[0m\u001b[0m\n\u001b[0;32m      5\u001b[0m \u001b[0mdivisors\u001b[0m \u001b[1;33m=\u001b[0m \u001b[1;33m[\u001b[0m\u001b[1;33m]\u001b[0m\u001b[1;33m\u001b[0m\u001b[1;33m\u001b[0m\u001b[0m\n",
      "\u001b[1;31mValueError\u001b[0m: invalid literal for int() with base 10: ''"
     ]
    }
   ],
   "source": [
    "# 1 some more practice\n",
    "import math\n",
    "n = int(input())\n",
    "\n",
    "divisors = []\n",
    "\n",
    "for i in range(1, int(math.sqrt(n)) + 1):\n",
    "  if n % i == 0:\n",
    "    divisors.append(i)\n",
    "    if i != n//i:\n",
    "      divisors.append(n//i)\n",
    "\n",
    "print(divisors)"
   ]
  },
  {
   "cell_type": "markdown",
   "metadata": {},
   "source": [
    "### Slice list\n",
    "\n",
    "* **Note:** Indices can be negative, meaning you start at the back of the list\n",
    "* **Syntax**: [begin: end]\n",
    "* Default (positive index): begin is 0, end is the length of list\n",
    "* Default (negative index): begin is -(length of the list), end is 0"
   ]
  },
  {
   "cell_type": "code",
   "execution_count": 21,
   "metadata": {},
   "outputs": [
    {
     "name": "stdout",
     "output_type": "stream",
     "text": [
      "a =  [0, 1, 2, 3, 4, 5, 6, 7, 8, 9]\n",
      "a[0] = 0\n",
      "a[-1] = 9\n",
      "First 3 elements = [0, 1, 2]\n",
      "Last 3 elements = [5, 6, 7, 8, 9]\n",
      "Every elements before last element = [0, 1, 2, 3, 4, 5, 6, 7, 8]\n",
      "[0, 1, 2, 3, 4, 5, 6, 7, 800, 900]\n"
     ]
    }
   ],
   "source": [
    "a = [i for i in range(10)]\n",
    "print(\"a = \", a)\n",
    "print(\"a[0] =\", a[0])\n",
    "print(\"a[-1] =\", a[-1])\n",
    "print(\"First 3 elements =\", a[0:3])\n",
    "print(\"Last 3 elements =\", a[-5:])\n",
    "print(\"Every elements before last element =\", a[:-1])\n",
    "a[-2:] = [i*100 for i in a[-2:]]\n",
    "print(a)"
   ]
  },
  {
   "cell_type": "markdown",
   "metadata": {},
   "source": [
    "## Warm-up exercise\n",
    "\n",
    "1) Read or create a random list of length 15.\n",
    "\n",
    "    a) Print first 3 element of the list\n",
    "    \n",
    "    b) Print all elements except the first one in the list\n",
    "    \n",
    "    c) Print last 5 elements in the list\n",
    "    \n",
    "    d) Print numbers from range 2 to 5\n",
    "    \n",
    "    e) Increase elements from range 0 -> 3 by 10.\n",
    "    \n",
    "    f) Multiply last two elements with 100"
   ]
  },
  {
   "cell_type": "markdown",
   "metadata": {},
   "source": [
    "## Week 3\n",
    "### Exercise\n",
    "    1.0) Read an integer name fibo_length\n",
    "\n",
    "    1.1) Creating a list name fibo of length fibo_length contains all 0\n",
    "\n",
    "    1.2) Manipulate element of the list above so that elements of the list are numbers in Fibonacci sequence. Note: in fibonacci sequence, first two elements are 1, 1; after that, the next elements equal to the sum of two previous elements.\n",
    "\n",
    "    1.3) Extract a list of elements in range (0, 5) (try using both positive and negative indices) \n",
    "\n",
    "* Remember to print everything out to see"
   ]
  },
  {
   "cell_type": "markdown",
   "metadata": {},
   "source": [
    "## List Operation"
   ]
  },
  {
   "cell_type": "markdown",
   "metadata": {},
   "source": [
    "### Insert to any position"
   ]
  },
  {
   "cell_type": "code",
   "execution_count": 22,
   "metadata": {},
   "outputs": [
    {
     "name": "stdout",
     "output_type": "stream",
     "text": [
      "['p', 't', 't', 'h', 'o', 'n', 'n']\n",
      "['p', 'y', 't', 't', 'h', 'o', 'n', 'n']\n"
     ]
    }
   ],
   "source": [
    "x = \"ptthonn\"\n",
    "x = list(x) # Cast another type\n",
    "print(x)\n",
    "\n",
    "x.insert(1, 'y')\n",
    "print(x)"
   ]
  },
  {
   "cell_type": "markdown",
   "metadata": {},
   "source": [
    "## Practice\n",
    "`s = [1, 2, 3, 5, 6, 9]`\n",
    "\n",
    "    a) Insert 4 into the list so that it places between 3 and 5\n",
    "    \n",
    "    b) Insert all other missing numbers at right positions in the list so we have a sorted list from 1 -> 9"
   ]
  },
  {
   "cell_type": "markdown",
   "metadata": {},
   "source": [
    "### Sort and Append to the list"
   ]
  },
  {
   "cell_type": "code",
   "execution_count": 21,
   "metadata": {},
   "outputs": [
    {
     "name": "stdout",
     "output_type": "stream",
     "text": [
      "[9, 4, 3, 0]\n",
      "[[0, 1], [1, 0]]\n"
     ]
    }
   ],
   "source": [
    "x.sort()\n",
    "print(x)"
   ]
  },
  {
   "cell_type": "code",
   "execution_count": 24,
   "metadata": {},
   "outputs": [
    {
     "name": "stdout",
     "output_type": "stream",
     "text": [
      "['y', 't', 't', 'p', 'o', 'n', 'n', 'h']\n"
     ]
    }
   ],
   "source": [
    "x.sort(reverse=True)\n",
    "print(x)"
   ]
  },
  {
   "cell_type": "code",
   "execution_count": 25,
   "metadata": {},
   "outputs": [
    {
     "name": "stdout",
     "output_type": "stream",
     "text": [
      "['y', 't', 't', 'p', 'o', 'n', 'n', 'h', 'n']\n"
     ]
    }
   ],
   "source": [
    "x.append('n')\n",
    "print(x)"
   ]
  },
  {
   "cell_type": "markdown",
   "metadata": {},
   "source": [
    "## Practice\n",
    "\n",
    "    a) Read a random list of n integers from standard input\n",
    "    \n",
    "    b) Sort the list ascendingly\n",
    "    \n",
    "    c) Sort the list descendingly"
   ]
  },
  {
   "cell_type": "markdown",
   "metadata": {},
   "source": [
    "### Delete at any position"
   ]
  },
  {
   "cell_type": "code",
   "execution_count": 8,
   "metadata": {},
   "outputs": [
    {
     "name": "stdout",
     "output_type": "stream",
     "text": [
      "['p', 'y', 't', 't', 'h', 'o', 'n', 'n']\n"
     ]
    }
   ],
   "source": [
    "del(x[-1])\n",
    "print(x)"
   ]
  },
  {
   "cell_type": "markdown",
   "metadata": {},
   "source": [
    "### Delete the first element equal to the given value"
   ]
  },
  {
   "cell_type": "code",
   "execution_count": 9,
   "metadata": {},
   "outputs": [
    {
     "name": "stdout",
     "output_type": "stream",
     "text": [
      "['p', 'y', 't', 'h', 'o', 'n', 'n']\n"
     ]
    }
   ],
   "source": [
    "x.remove('t')\n",
    "print(x)"
   ]
  },
  {
   "cell_type": "markdown",
   "metadata": {},
   "source": [
    "### Delete the last element of the list"
   ]
  },
  {
   "cell_type": "code",
   "execution_count": 10,
   "metadata": {},
   "outputs": [
    {
     "name": "stdout",
     "output_type": "stream",
     "text": [
      "['p', 'y', 't', 'h', 'o', 'n']\n"
     ]
    }
   ],
   "source": [
    "x.pop()\n",
    "print(x)"
   ]
  },
  {
   "cell_type": "markdown",
   "metadata": {},
   "source": [
    "## Practice\n",
    "`s = [1, 2, 3, 4, 4, 5, 5, 6, 7, 8, 9, 10]`\n",
    "\n",
    "    a) Delete duplicate 4 in the list using del\n",
    "    \n",
    "    b) Delete first occurence of 5 using remove\n",
    "    \n",
    "    c) Delete last two elements of the list using pop\n",
    "\n",
    "`s = [1, 2, 3, 4, 1, 5, 1, 6, 1, 1, 7, 1, 8]`\n",
    "    \n",
    "    a) Remove all occurences of 1 in the list using remove\n",
    "    b) Create a new list that doesn't contain 1 using append.\n",
    "    "
   ]
  },
  {
   "cell_type": "markdown",
   "metadata": {},
   "source": [
    "### Exercise\n",
    "\n",
    "    1) Read n from standard input\n",
    "    \n",
    "    2) Delete all vowels ('a', 'e', 'i', 'o', 'u') in a given string\n",
    "    \n",
    "    3)\n",
    "    a) Read a random list of n integers from standard input\n",
    "    \n",
    "    b) Remove duplicate elements without sorting the list "
   ]
  },
  {
   "cell_type": "markdown",
   "metadata": {},
   "source": [
    "### Sort elements in a list"
   ]
  },
  {
   "cell_type": "code",
   "execution_count": 116,
   "metadata": {},
   "outputs": [
    {
     "name": "stdout",
     "output_type": "stream",
     "text": [
      "['h', 'n', 'o', 'p', 't', 'y']\n"
     ]
    }
   ],
   "source": [
    "x.sort()\n",
    "print(x)"
   ]
  },
  {
   "cell_type": "code",
   "execution_count": 117,
   "metadata": {},
   "outputs": [
    {
     "name": "stdout",
     "output_type": "stream",
     "text": [
      "['y', 't', 'p', 'o', 'n', 'h']\n"
     ]
    }
   ],
   "source": [
    "x.sort(reverse=True)\n",
    "print(x)"
   ]
  },
  {
   "cell_type": "markdown",
   "metadata": {},
   "source": [
    "## Exercise\n",
    "\n",
    "1) Remove duplicate elements using sorting. "
   ]
  },
  {
   "cell_type": "markdown",
   "metadata": {},
   "source": [
    "## Dictionary"
   ]
  },
  {
   "cell_type": "code",
   "execution_count": 14,
   "metadata": {},
   "outputs": [
    {
     "name": "stdout",
     "output_type": "stream",
     "text": [
      "<class 'dict'>\n",
      "{'C': 'Computing', 'S': 'Students', 'Hub': 'Hub'}\n"
     ]
    }
   ],
   "source": [
    "cshub_dict = {\"C\": \"Computing\",\n",
    "              \"S\": \"Students\",\n",
    "              \"Hub\": \"Hub\"}\n",
    "print(type(cshub_dict))\n",
    "print(cshub_dict)"
   ]
  },
  {
   "cell_type": "markdown",
   "metadata": {},
   "source": [
    "### Add new element, change element value in dictionary"
   ]
  },
  {
   "cell_type": "code",
   "execution_count": 15,
   "metadata": {},
   "outputs": [
    {
     "name": "stdout",
     "output_type": "stream",
     "text": [
      "{'C': 'Computing', 'S': 'Students', 'Hub': 'Hub', 'cshub': 'Shitty club'}\n",
      "Awesome club\n"
     ]
    }
   ],
   "source": [
    "cshub_dict[\"cshub\"] = \"Shitty club\"\n",
    "print(cshub_dict)\n",
    "cshub_dict[\"cshub\"] = \"Awesome club\"\n",
    "print(cshub_dict[\"cshub\"])"
   ]
  },
  {
   "cell_type": "markdown",
   "metadata": {},
   "source": [
    "### Retrieve all keys/values of a dictionary"
   ]
  },
  {
   "cell_type": "code",
   "execution_count": 18,
   "metadata": {},
   "outputs": [
    {
     "name": "stdout",
     "output_type": "stream",
     "text": [
      "dict_keys(['C', 'S', 'Hub', 'cshub'])\n",
      "dict_values(['Computing', 'Students', 'Hub', 'Awesome club'])\n"
     ]
    }
   ],
   "source": [
    "print(cshub_dict.keys())\n",
    "print(cshub_dict.values())"
   ]
  },
  {
   "cell_type": "markdown",
   "metadata": {},
   "source": [
    "### Traverse through a dictionary"
   ]
  },
  {
   "cell_type": "code",
   "execution_count": 126,
   "metadata": {},
   "outputs": [
    {
     "name": "stdout",
     "output_type": "stream",
     "text": [
      "C: Computing\n",
      "S: Students\n",
      "Hub: Hub\n",
      "cshub: Awesome club\n"
     ]
    }
   ],
   "source": [
    "for key, value in cshub_dict.items():\n",
    "    print(key + \": \" + value)"
   ]
  },
  {
   "cell_type": "markdown",
   "metadata": {},
   "source": [
    "### Exercise (using dictionary)\n",
    "\n",
    "\n",
    "    1) We want to know what is the most popular languages of all people we have in this room.\n",
    "\n",
    "    First, read a number (n) from standard input (this number indicates how many people in this room)\n",
    "\n",
    "    Next, we read n inputs, each is favourite language of each person\n",
    "\n",
    "    Find for each language, how many people use it? What is the most mopular one?\n",
    "    "
   ]
  },
  {
   "cell_type": "markdown",
   "metadata": {},
   "source": [
    "## Tuple"
   ]
  },
  {
   "cell_type": "code",
   "execution_count": 129,
   "metadata": {},
   "outputs": [
    {
     "name": "stdout",
     "output_type": "stream",
     "text": [
      "<class 'tuple'>\n",
      "(1+2j) 2 3\n"
     ]
    }
   ],
   "source": [
    "point = (1 + 2j, 2, 3)\n",
    "print(type(point))\n",
    "x, y, z = point\n",
    "print(x, y, z)"
   ]
  },
  {
   "cell_type": "markdown",
   "metadata": {},
   "source": [
    "## Function"
   ]
  },
  {
   "cell_type": "code",
   "execution_count": 2,
   "metadata": {},
   "outputs": [
    {
     "name": "stdout",
     "output_type": "stream",
     "text": [
      "24\n",
      "93326215443944152681699238856266700490715968264381621468592963895217599993229915608941463976156518286253697920827223758251185210916864000000000000000000000000\n"
     ]
    }
   ],
   "source": [
    "def factorial(n):\n",
    "    if n <= 1:\n",
    "        return 1\n",
    "    else:\n",
    "        return n*factorial(n - 1)\n",
    "\n",
    "print(factorial(4))\n",
    "\n",
    "# Python doesn't have restriction on how big your input/output \n",
    "print(factorial(100))"
   ]
  },
  {
   "cell_type": "markdown",
   "metadata": {},
   "source": [
    "### Exercise:\n",
    "1) Write a function to compute greatest common divisor of two numbers\n",
    "\n",
    "2) Write a function to compute lowest common divisor of two numbers\n",
    "\n",
    "3) Write a function to check if a number\n"
   ]
  },
  {
   "cell_type": "markdown",
   "metadata": {},
   "source": [
    "# Big O notation"
   ]
  },
  {
   "cell_type": "markdown",
   "metadata": {},
   "source": [
    "$f(x)$ is $O(g(x))$ if there are constants $C$ and $k$ such that $|f(x)| \\leq C|g(x)|$ whenever $x > k$.\n",
    "\n",
    "Or, $f(x)=O(g(x))$ as $x\\to \\infty$\n",
    "\n",
    "* Big-O notation means that the problem can be “as bad as” the equation inside the parentheses. It’s an upper bound — a worst-case scenario.\n",
    "* Big-O notation is expressed as the limiting factor as the size of the problem grows very large. \n",
    "* Thus, even if at a small size the algorithm’s cost is dominated by a huge initial cost, what we’re interested in is what happens as the size goes to infinity."
   ]
  },
  {
   "cell_type": "markdown",
   "metadata": {},
   "source": [
    "## Array\n",
    "\n",
    "* Access: $O(1)$\n",
    "\n",
    "* Search: $O(n)$\n",
    "\n",
    "* Insertion: $O(n)$\n",
    "\n",
    "* Deletion: $O(n)$"
   ]
  },
  {
   "cell_type": "markdown",
   "metadata": {},
   "source": [
    "### Exercise:"
   ]
  },
  {
   "cell_type": "markdown",
   "metadata": {},
   "source": [
    "    1) Find the maximum/minum number of a given array\n",
    "    \n",
    "    2) Give an array of integer, find the sum of integers between index i and j\n",
    "        a) Find the maximum contiguous subarray (the array could have negative numbers)\n",
    "\n",
    "    3) Given an array of integers and a number n. Is there exist subset in an array that its sum equal to n?"
   ]
  },
  {
   "cell_type": "markdown",
   "metadata": {},
   "source": [
    "## Set\n",
    "\n",
    "Every element in a set is distinct\n",
    "\n",
    "To convert an array to set in python: `set([given list])`"
   ]
  },
  {
   "cell_type": "markdown",
   "metadata": {},
   "source": [
    "### Exercise:\n",
    "    1) Find number of distinct elements in a given array\n",
    "\n",
    "    2) Find number of distinct characters in a given string"
   ]
  }
 ],
 "metadata": {
  "kernelspec": {
   "display_name": "Python 3",
   "language": "python",
   "name": "python3"
  },
  "language_info": {
   "codemirror_mode": {
    "name": "ipython",
    "version": 3
   },
   "file_extension": ".py",
   "mimetype": "text/x-python",
   "name": "python",
   "nbconvert_exporter": "python",
   "pygments_lexer": "ipython3",
   "version": "3.7.2"
  }
 },
 "nbformat": 4,
 "nbformat_minor": 2
}
